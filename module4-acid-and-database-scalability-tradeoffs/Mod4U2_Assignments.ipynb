{
 "cells": [
  {
   "cell_type": "code",
   "execution_count": 1,
   "metadata": {},
   "outputs": [],
   "source": [
    "#!pip install psycopg2-binary"
   ]
  },
  {
   "cell_type": "code",
   "execution_count": 2,
   "metadata": {},
   "outputs": [],
   "source": [
    "import psycopg2"
   ]
  },
  {
   "cell_type": "markdown",
   "metadata": {},
   "source": [
    "## Titanic Data from PostgregDB \n",
    "---\n",
    "1- How many passengers survived, and how many died? \\n\n",
    "2- How many passengers were in each class? \\n\n",
    "3- How many passengers survived/died within each class? \\n\n",
    "4- What was the average age of survivors vs nonsurvivors? \\n\n",
    "5- What was the average age of each passenger class? \\n\n",
    "6- What was the average fare by passenger class? By survival? \\n\n",
    "7- How many siblings/spouses aboard on average, by passenger class? By survival? \\n\n",
    "8- How many parents/children aboard on average, by passenger class? By survival? \\n\n",
    "- Do any passengers have the same name?\n",
    "- (Bonus! Hard, may require pulling and processing with Python) How many married\n",
    "  couples were aboard the Titanic? Assume that two people (one `Mr.` and one\n",
    "  `Mrs.`) with the same last name and with at least 1 sibling/spouse aboard are\n",
    "  a married couple."
   ]
  },
  {
   "cell_type": "code",
   "execution_count": 3,
   "metadata": {},
   "outputs": [],
   "source": [
    "# Question 1\n",
    "passenger_survived = 'SELECT count(Survived) as passsenger_survived  From Titanic as c WHERE Survived = 1;'\n",
    "passenger_died = 'SELECT count(Survived) as Died  From Titanic as c WHERE Survived = 0;'\n",
    "# Question 2 How many passengers were in each class?\n",
    "passenger_count_class = 'SELECT pclass, count(Survived) as People_died From Titanic as c WHERE Survived = 0 GROUP by Pclass;'\n",
    "# Question 3\n",
    "passenger_sur_class = 'SELECT pclass, Survived ,count(*) as Passenger_count From Titanic as c GROUP by Pclass , Survived;'\n",
    "# Question 4 What was the average age of survivors vs nonsurvivors?\n",
    "Q4 = 'SELECT Survived, round(avg(AGE),2) as Average_age From Titanic as c GROUP by  Survived;'\n",
    "# Question 5 What was the average age of each passenger class?\n",
    "Q5 = 'SELECT Pclass, round(avg(AGE),2) as Average_age From Titanic as c GROUP by  Pclass;'\n",
    "# Question 6 What was the average fare by passenger class?\n",
    "Q6 = 'SELECT Pclass, round(avg(Fare),2), Survived as Avg_fare From Titanic as c GROUP by  Pclass, Survived;'\n",
    "# Question 6.5 By survival?\n",
    "Q6_5 = 'SELECT Pclass, round(avg(Fare),2) as AVG_fare, Survived From Titanic as c GROUP by  Pclass, Survived;'\n",
    "# Question 7  How many siblings/spouses aboard on average, by passenger class? By survival?\n",
    "Q7 = 'SELECT Pclass, round(avg(\"Siblings/Spouses Aboard\"),2) as Sib_N_Spouse from titanic2 GROUP by Pclass;'\n",
    "# Question 7.5 By survival?\n",
    "Q7_5 = 'SELECT Survived, round(avg(\"Siblings/Spouses Aboard\"),2) as AVG_Sib_N_Spouse from titanic2 GROUP by Survived;'\n",
    "# Question 8 How many parents/children aboard on average, by passenger class? By survival?\n",
    "Q8 = 'SELECT Pclass, round(avg(\"Parents/Children Aboard\"),2) as Average_Parent_Children from titanic2 group by Pclass;'\n",
    "# Question 8.5 By survival?\n",
    "Q8_5 = 'SELECT Survived, round(avg(\"Parents/Children Aboard\"),2) as Average_Parent_Children from titanic2 group by Survived;'"
   ]
  },
  {
   "cell_type": "code",
   "execution_count": 4,
   "metadata": {},
   "outputs": [],
   "source": [
    "dbname = 'eeawqdmz'\n",
    "user = 'eeawqdmz'\n",
    "password = '9Z1nea9sBCwXmfO0FCg-4LN8COQVD8VG'\n",
    "host = 'ruby.db.elephantsql.com'\n",
    "pg_conn = psycopg2.connect(dbname=dbname, user=user,\n",
    "                           password=password, host=host)\n",
    "pg_curs = pg_conn.cursor() "
   ]
  },
  {
   "cell_type": "code",
   "execution_count": 5,
   "metadata": {},
   "outputs": [],
   "source": [
    "Q1= 'SELECT count(survived) as passsenger_survived  From Titanic WHERE survived = 1;'"
   ]
  },
  {
   "cell_type": "code",
   "execution_count": null,
   "metadata": {},
   "outputs": [],
   "source": [
    "help(pg_curs.execute)"
   ]
  },
  {
   "cell_type": "code",
   "execution_count": 11,
   "metadata": {},
   "outputs": [],
   "source": [
    "Q1= \"\"\"SELECT COUNT(survived) as passsenger_survived FROM Titanic WHERE survived = 1;\"\"\"\n",
    "result = pg_curs.execute(Q1)"
   ]
  },
  {
   "cell_type": "code",
   "execution_count": 12,
   "metadata": {
    "scrolled": true
   },
   "outputs": [
    {
     "name": "stdout",
     "output_type": "stream",
     "text": [
      "Passenger Survived 342 .\n"
     ]
    }
   ],
   "source": [
    "print('Q1 How many passenger survived?:')\n",
    "print('Passenger Survived',pg_curs.fetchall()[0][0],'.')"
   ]
  },
  {
   "cell_type": "code",
   "execution_count": 15,
   "metadata": {},
   "outputs": [
    {
     "name": "stdout",
     "output_type": "stream",
     "text": [
      "Passenger Died 545 .\n"
     ]
    }
   ],
   "source": [
    "print('Q1_5 How many passenger died?:')\n",
    "passenger_died = 'SELECT count(Survived) as Died  From Titanic as c WHERE Survived = 0;'\n",
    "pg_curs.execute(passenger_died)\n",
    "print('Passenger Died',pg_curs.fetchall()[0][0],'.')"
   ]
  },
  {
   "cell_type": "code",
   "execution_count": 26,
   "metadata": {},
   "outputs": [
    {
     "name": "stdout",
     "output_type": "stream",
     "text": [
      "Pclass: 1, People who died: 80.\n",
      "Pclass: 3, People who died: 368.\n",
      "Pclass: 2, People who died: 97.\n"
     ]
    }
   ],
   "source": [
    "passenger_count_class = 'SELECT pclass, count(Survived) as People_died From Titanic as c WHERE Survived = 0 GROUP by Pclass;'\n",
    "pg_curs.execute(passenger_count_class)\n",
    "test = pg_curs.fetchall()\n",
    "for people in test:\n",
    "    print(f'Pclass: {people[0]}, People who died: {people[1]}.')"
   ]
  },
  {
   "cell_type": "code",
   "execution_count": 31,
   "metadata": {},
   "outputs": [
    {
     "name": "stdout",
     "output_type": "stream",
     "text": [
      "Pclass: 1, # of people: 216.\n",
      "Pclass: 3, # of people: 487.\n",
      "Pclass: 2, # of people: 184.\n"
     ]
    }
   ],
   "source": [
    "#How many passenger in each class?\n",
    "print('Q2 How many passengers were in each class?:')\n",
    "test = 'SELECT Pclass, count(*) from titanic GROUP by Pclass;'\n",
    "pg_curs.execute(test)\n",
    "test1 = pg_curs.fetchall()\n",
    "for people in test1:\n",
    "    print(f'Pclass: {people[0]}, # of people: {people[1]}.')"
   ]
  },
  {
   "cell_type": "code",
   "execution_count": 52,
   "metadata": {},
   "outputs": [
    {
     "name": "stdout",
     "output_type": "stream",
     "text": [
      "Q3 How many passengers survived/died within each class?\n",
      "Pclass: 1, Survived: 0, Passenger_count: 80.\n",
      "Pclass: 1, Survived: 1, Passenger_count: 136.\n",
      "Pclass: 2, Survived: 1, Passenger_count: 87.\n",
      "Pclass: 2, Survived: 0, Passenger_count: 97.\n",
      "Pclass: 3, Survived: 0, Passenger_count: 368.\n",
      "Pclass: 3, Survived: 1, Passenger_count: 119.\n"
     ]
    }
   ],
   "source": [
    "# How many passengers survived/died within each class?\n",
    "print('Q3 How many passengers survived/died within each class?')\n",
    "passenger_sur_class = 'SELECT pclass, Survived ,count(*) as Passenger_count From Titanic as c GROUP by Pclass , Survived Order by Pclass;'\n",
    "pg_curs.execute(passenger_sur_class)\n",
    "test = pg_curs.fetchall()\n",
    "for people in test:\n",
    "    print(f'Pclass: {people[0]}, Survived: {people[1]}, Passenger_count: {people[2]}.')"
   ]
  },
  {
   "cell_type": "code",
   "execution_count": 56,
   "metadata": {},
   "outputs": [
    {
     "name": "stdout",
     "output_type": "stream",
     "text": [
      "Question 4 What was the average age of survivors vs nonsurvivors?\n",
      "Survived: 0, Average_age: 30.15.\n",
      "Survived: 1, Average_age: 28.41.\n"
     ]
    }
   ],
   "source": [
    "print('Question 4 What was the average age of survivors vs nonsurvivors?')\n",
    "Q4 = 'SELECT Survived, round(avg(AGE),2) as Average_age From Titanic as c GROUP by  Survived;'\n",
    "pg_curs.execute(Q4)\n",
    "test = pg_curs.fetchall()\n",
    "for people in test:\n",
    "    print(f'Survived: {people[0]}, Average_age: {people[1]}.')"
   ]
  },
  {
   "cell_type": "code",
   "execution_count": 36,
   "metadata": {},
   "outputs": [
    {
     "name": "stdout",
     "output_type": "stream",
     "text": [
      "Pclass: 1, Average Age: 38.79.\n",
      "Pclass: 3, Average Age: 25.20.\n",
      "Pclass: 2, Average Age: 29.88.\n"
     ]
    }
   ],
   "source": [
    "print('Question 5 What was the average age of each passenger class?')\n",
    "Q5 = 'SELECT Pclass, round(avg(AGE),2) as Average_age From Titanic as c GROUP by  Pclass;'\n",
    "pg_curs.execute(Q5)\n",
    "test = pg_curs.fetchall()\n",
    "for people in test:\n",
    "    print(f'Pclass: {people[0]}, Average Age: {people[1]}.')"
   ]
  },
  {
   "cell_type": "code",
   "execution_count": 57,
   "metadata": {},
   "outputs": [
    {
     "name": "stdout",
     "output_type": "stream",
     "text": [
      "Question 6 What was the average fare by passenger class?\n",
      "Pclass: 1, Average Fare: $84.15.\n",
      "Pclass: 3, Average Fare: $13.71.\n",
      "Pclass: 2, Average Fare: $20.66.\n"
     ]
    }
   ],
   "source": [
    "print(\"Question 6 What was the average fare by passenger class?\")\n",
    "Q6 = 'SELECT Pclass, avg(fare) as average_fare From Titanic  GROUP by  Pclass;'\n",
    "pg_curs.execute(Q6)\n",
    "test = pg_curs.fetchall()\n",
    "for people in test:\n",
    "    print(f'Pclass: {people[0]}, Average Fare: ${round(people[1],2)}.')"
   ]
  },
  {
   "cell_type": "code",
   "execution_count": 58,
   "metadata": {},
   "outputs": [
    {
     "name": "stdout",
     "output_type": "stream",
     "text": [
      "Question 6.5 By survival?\n",
      "Pclass: 1, Average Fare: $84.15.\n",
      "Pclass: 3, Average Fare: $13.71.\n",
      "Pclass: 2, Average Fare: $20.66.\n"
     ]
    }
   ],
   "source": [
    "print('Question 6.5 By survival?')\n",
    "Q6_5 = 'SELECT Survived ,avg(Fare) as AVG_fare From Titanic as c GROUP by  Pclass, Survived;'\n",
    "pg_curs.execute(Q6)\n",
    "test = pg_curs.fetchall()\n",
    "for people in test:\n",
    "    print(f'Pclass: {people[0]}, Average Fare: ${round(people[1],2)}.')"
   ]
  },
  {
   "cell_type": "code",
   "execution_count": 59,
   "metadata": {},
   "outputs": [
    {
     "name": "stdout",
     "output_type": "stream",
     "text": [
      "Question 7  How many siblings/spouses aboard on average, by passenger class? By survival?\n",
      "Pcalss: 1, Average number of Sibling/ Spouse: 0.42.\n",
      "Pcalss: 3, Average number of Sibling/ Spouse: 0.62.\n",
      "Pcalss: 2, Average number of Sibling/ Spouse: 0.40.\n"
     ]
    }
   ],
   "source": [
    "print('Question 7  How many siblings/spouses aboard on average, by passenger class?')\n",
    "Q7 = 'SELECT Pclass, round(avg(sibling_spouses_aboard),2) as Average_Sibling_and_Spouse from titanic GROUP by Pclass;'\n",
    "pg_curs.execute(Q7)\n",
    "test = pg_curs.fetchall()\n",
    "for people in test:\n",
    "    print(f'Pcalss: {people[0]}, Average number of Sibling/ Spouse: {round(people[1],2)}.')"
   ]
  },
  {
   "cell_type": "code",
   "execution_count": 61,
   "metadata": {},
   "outputs": [
    {
     "name": "stdout",
     "output_type": "stream",
     "text": [
      "Question 7.5 By survival?\n",
      "Survived: 0, Average number of Sibling/ Spouse: 0.56.\n",
      "Survived: 1, Average number of Sibling/ Spouse: 0.47.\n"
     ]
    }
   ],
   "source": [
    "print(\"Question 7.5 By survival?\")\n",
    "Q7_5 = 'SELECT Survived, round(avg(sibling_spouses_aboard),2) as AVG_Sib_N_Spouse from titanic GROUP by Survived;'\n",
    "pg_curs.execute(Q7_5)\n",
    "test = pg_curs.fetchall()\n",
    "for people in test:\n",
    "    print(f'Survived: {people[0]}, Average number of Sibling/ Spouse: {round(people[1],2)}.')"
   ]
  },
  {
   "cell_type": "code",
   "execution_count": 62,
   "metadata": {},
   "outputs": [
    {
     "name": "stdout",
     "output_type": "stream",
     "text": [
      "Question 8 How many parents/children aboard on average, by passenger class? By survival?\n",
      "Pclass: 1, Average number of Parent/Chidren: 0.36.\n",
      "Pclass: 3, Average number of Parent/Chidren: 0.40.\n",
      "Pclass: 2, Average number of Parent/Chidren: 0.38.\n"
     ]
    }
   ],
   "source": [
    "print(\"Question 8 How many parents/children aboard on average, by passenger class? By survival?\")\n",
    "Q8 = 'SELECT Pclass, round(avg(parent_children_aboard),2) as Average_Parent_Children from titanic group by Pclass;'\n",
    "pg_curs.execute(Q8)\n",
    "test = pg_curs.fetchall()\n",
    "for people in test:\n",
    "    print(f'Pclass: {people[0]}, Average number of Parent/Chidren: {round(people[1],2)}.')"
   ]
  },
  {
   "cell_type": "code",
   "execution_count": 63,
   "metadata": {},
   "outputs": [
    {
     "name": "stdout",
     "output_type": "stream",
     "text": [
      "Question 8.5 By survival?\n",
      "Pclass: 0, Average number of Parent/Chidren: 0.33.\n",
      "Pclass: 1, Average number of Parent/Chidren: 0.46.\n"
     ]
    }
   ],
   "source": [
    "print(\"Question 8.5 By survival?\")\n",
    "Q8_5 = 'SELECT Survived, round(avg(parent_children_aboard),2) as Average_Parent_Children from titanic group by Survived;'\n",
    "pg_curs.execute(Q8_5)\n",
    "test = pg_curs.fetchall()\n",
    "for people in test:\n",
    "    print(f'Pclass: {people[0]}, Average number of Parent/Chidren: {round(people[1],2)}.')"
   ]
  },
  {
   "cell_type": "code",
   "execution_count": null,
   "metadata": {},
   "outputs": [],
   "source": []
  }
 ],
 "metadata": {
  "kernelspec": {
   "display_name": "Python 3",
   "language": "python",
   "name": "python3"
  },
  "language_info": {
   "codemirror_mode": {
    "name": "ipython",
    "version": 3
   },
   "file_extension": ".py",
   "mimetype": "text/x-python",
   "name": "python",
   "nbconvert_exporter": "python",
   "pygments_lexer": "ipython3",
   "version": "3.7.6"
  }
 },
 "nbformat": 4,
 "nbformat_minor": 4
}
