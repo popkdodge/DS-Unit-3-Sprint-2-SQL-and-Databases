{
  "nbformat": 4,
  "nbformat_minor": 0,
  "metadata": {
    "colab": {
      "name": "Lambda School DS16 Unit 3 Sprint 2 Module 2 - PostgreSQL Demo.ipynb",
      "provenance": []
    },
    "kernelspec": {
      "name": "python3",
      "display_name": "Python 3"
    }
  },
  "cells": [
    {
      "cell_type": "markdown",
      "metadata": {
        "id": "aRzBtbis-GfI",
        "colab_type": "text"
      },
      "source": [
        "# Live Demo Code for Connecting to PostgreSQL from Python\n",
        "\n",
        "Notebook for your helpful reference - but the assignment still requires writing .py files!"
      ]
    },
    {
      "cell_type": "code",
      "metadata": {
        "id": "baSbUocI-CXN",
        "colab_type": "code",
        "colab": {
          "base_uri": "https://localhost:8080/",
          "height": 126
        },
        "outputId": "234c0b62-1ed0-4d1b-e19a-cf78c9f2909d"
      },
      "source": [
        "!pip install psycopg2-binary"
      ],
      "execution_count": null,
      "outputs": [
        {
          "output_type": "stream",
          "text": [
            "Collecting psycopg2-binary\n",
            "\u001b[?25l  Downloading https://files.pythonhosted.org/packages/d3/8a/a7ed55c2c55bd4f5844d72734fedc0cef8a74518a0a19105a21c15628f1e/psycopg2_binary-2.8.5-cp36-cp36m-manylinux1_x86_64.whl (2.9MB)\n",
            "\u001b[K     |████████████████████████████████| 2.9MB 2.8MB/s \n",
            "\u001b[?25hInstalling collected packages: psycopg2-binary\n",
            "Successfully installed psycopg2-binary-2.8.5\n"
          ],
          "name": "stdout"
        }
      ]
    },
    {
      "cell_type": "code",
      "metadata": {
        "id": "oZqzG00QRN33",
        "colab_type": "code",
        "colab": {}
      },
      "source": [
        "import psycopg2"
      ],
      "execution_count": null,
      "outputs": []
    },
    {
      "cell_type": "code",
      "metadata": {
        "id": "RGbmZs-9RUCH",
        "colab_type": "code",
        "colab": {
          "base_uri": "https://localhost:8080/",
          "height": 835
        },
        "outputId": "e2506e9f-c7c9-44d7-d052-503858cc3437"
      },
      "source": [
        "dir(psycopg2)"
      ],
      "execution_count": null,
      "outputs": [
        {
          "output_type": "execute_result",
          "data": {
            "text/plain": [
              "['BINARY',\n",
              " 'Binary',\n",
              " 'DATETIME',\n",
              " 'DataError',\n",
              " 'DatabaseError',\n",
              " 'Date',\n",
              " 'DateFromTicks',\n",
              " 'Error',\n",
              " 'IntegrityError',\n",
              " 'InterfaceError',\n",
              " 'InternalError',\n",
              " 'NUMBER',\n",
              " 'NotSupportedError',\n",
              " 'OperationalError',\n",
              " 'ProgrammingError',\n",
              " 'ROWID',\n",
              " 'STRING',\n",
              " 'Time',\n",
              " 'TimeFromTicks',\n",
              " 'Timestamp',\n",
              " 'TimestampFromTicks',\n",
              " 'Warning',\n",
              " '__builtins__',\n",
              " '__cached__',\n",
              " '__doc__',\n",
              " '__file__',\n",
              " '__libpq_version__',\n",
              " '__loader__',\n",
              " '__name__',\n",
              " '__package__',\n",
              " '__path__',\n",
              " '__spec__',\n",
              " '__version__',\n",
              " '_connect',\n",
              " '_ext',\n",
              " '_json',\n",
              " '_psycopg',\n",
              " '_range',\n",
              " 'apilevel',\n",
              " 'compat',\n",
              " 'connect',\n",
              " 'errors',\n",
              " 'extensions',\n",
              " 'paramstyle',\n",
              " 'threadsafety',\n",
              " 'tz']"
            ]
          },
          "metadata": {
            "tags": []
          },
          "execution_count": 3
        }
      ]
    },
    {
      "cell_type": "code",
      "metadata": {
        "id": "aP4NgPXCRUvV",
        "colab_type": "code",
        "colab": {
          "base_uri": "https://localhost:8080/",
          "height": 639
        },
        "outputId": "7d7e3050-05c5-4682-95ef-0208d84aba5a"
      },
      "source": [
        "# psycopg2.connect looks interesting, similar to sqlite3\n",
        "help(psycopg2.connect)"
      ],
      "execution_count": null,
      "outputs": [
        {
          "output_type": "stream",
          "text": [
            "Help on function connect in module psycopg2:\n",
            "\n",
            "connect(dsn=None, connection_factory=None, cursor_factory=None, **kwargs)\n",
            "    Create a new database connection.\n",
            "    \n",
            "    The connection parameters can be specified as a string:\n",
            "    \n",
            "        conn = psycopg2.connect(\"dbname=test user=postgres password=secret\")\n",
            "    \n",
            "    or using a set of keyword arguments:\n",
            "    \n",
            "        conn = psycopg2.connect(database=\"test\", user=\"postgres\", password=\"secret\")\n",
            "    \n",
            "    Or as a mix of both. The basic connection parameters are:\n",
            "    \n",
            "    - *dbname*: the database name\n",
            "    - *database*: the database name (only as keyword argument)\n",
            "    - *user*: user name used to authenticate\n",
            "    - *password*: password used to authenticate\n",
            "    - *host*: database host address (defaults to UNIX socket if not provided)\n",
            "    - *port*: connection port number (defaults to 5432 if not provided)\n",
            "    \n",
            "    Using the *connection_factory* parameter a different class or connections\n",
            "    factory can be specified. It should be a callable object taking a dsn\n",
            "    argument.\n",
            "    \n",
            "    Using the *cursor_factory* parameter, a new default cursor factory will be\n",
            "    used by cursor().\n",
            "    \n",
            "    Using *async*=True an asynchronous connection will be created. *async_* is\n",
            "    a valid alias (for Python versions where ``async`` is a keyword).\n",
            "    \n",
            "    Any other keyword parameter will be passed to the underlying client\n",
            "    library: the list of supported parameters depends on the library version.\n",
            "\n"
          ],
          "name": "stdout"
        }
      ]
    },
    {
      "cell_type": "code",
      "metadata": {
        "id": "RA42X84zRiJw",
        "colab_type": "code",
        "colab": {}
      },
      "source": [
        "# Looks similar to sqlite3, but needs more info to run\n",
        "dbname = 'dgsbycvs'\n",
        "user = 'dgsbycvs'  # ElephantSQL chooses to reuse dbname and username\n",
        "password = '_UGGyAcve_raJ3ErUvPykxWs5DGRYE7t'\n",
        "host = 'ruby.db.elephantsql.com'  # Port is default 5432"
      ],
      "execution_count": null,
      "outputs": []
    },
    {
      "cell_type": "code",
      "metadata": {
        "id": "Tqs6Q7YmSVVt",
        "colab_type": "code",
        "colab": {}
      },
      "source": [
        "pg_conn = psycopg2.connect(dbname=dbname, user=user,\n",
        "                           password=password, host=host)"
      ],
      "execution_count": null,
      "outputs": []
    },
    {
      "cell_type": "code",
      "metadata": {
        "id": "Nt2c19v7SfSi",
        "colab_type": "code",
        "colab": {
          "base_uri": "https://localhost:8080/",
          "height": 55
        },
        "outputId": "69efe7f8-26b1-4fd1-a6a7-5fda5e60bed5"
      },
      "source": [
        "pg_conn"
      ],
      "execution_count": null,
      "outputs": [
        {
          "output_type": "execute_result",
          "data": {
            "text/plain": [
              "<connection object at 0x7f32cf3d38d0; dsn: 'user=dgsbycvs password=xxx dbname=dgsbycvs host=ruby.db.elephantsql.com', closed: 0>"
            ]
          },
          "metadata": {
            "tags": []
          },
          "execution_count": 7
        }
      ]
    },
    {
      "cell_type": "code",
      "metadata": {
        "id": "UEcIg-U-Sh-0",
        "colab_type": "code",
        "colab": {
          "base_uri": "https://localhost:8080/",
          "height": 1000
        },
        "outputId": "b2a4a6b4-b7ed-4d2a-d765-82c7908ce5f4"
      },
      "source": [
        "dir(pg_conn)"
      ],
      "execution_count": null,
      "outputs": [
        {
          "output_type": "execute_result",
          "data": {
            "text/plain": [
              "['DataError',\n",
              " 'DatabaseError',\n",
              " 'Error',\n",
              " 'IntegrityError',\n",
              " 'InterfaceError',\n",
              " 'InternalError',\n",
              " 'NotSupportedError',\n",
              " 'OperationalError',\n",
              " 'ProgrammingError',\n",
              " 'Warning',\n",
              " '__class__',\n",
              " '__delattr__',\n",
              " '__dir__',\n",
              " '__doc__',\n",
              " '__enter__',\n",
              " '__eq__',\n",
              " '__exit__',\n",
              " '__format__',\n",
              " '__ge__',\n",
              " '__getattribute__',\n",
              " '__gt__',\n",
              " '__hash__',\n",
              " '__init__',\n",
              " '__init_subclass__',\n",
              " '__le__',\n",
              " '__lt__',\n",
              " '__ne__',\n",
              " '__new__',\n",
              " '__reduce__',\n",
              " '__reduce_ex__',\n",
              " '__repr__',\n",
              " '__setattr__',\n",
              " '__sizeof__',\n",
              " '__str__',\n",
              " '__subclasshook__',\n",
              " 'async',\n",
              " 'async_',\n",
              " 'autocommit',\n",
              " 'binary_types',\n",
              " 'cancel',\n",
              " 'close',\n",
              " 'closed',\n",
              " 'commit',\n",
              " 'cursor',\n",
              " 'cursor_factory',\n",
              " 'deferrable',\n",
              " 'dsn',\n",
              " 'encoding',\n",
              " 'fileno',\n",
              " 'get_backend_pid',\n",
              " 'get_dsn_parameters',\n",
              " 'get_native_connection',\n",
              " 'get_parameter_status',\n",
              " 'get_transaction_status',\n",
              " 'info',\n",
              " 'isexecuting',\n",
              " 'isolation_level',\n",
              " 'lobject',\n",
              " 'notices',\n",
              " 'notifies',\n",
              " 'pgconn_ptr',\n",
              " 'poll',\n",
              " 'protocol_version',\n",
              " 'readonly',\n",
              " 'reset',\n",
              " 'rollback',\n",
              " 'server_version',\n",
              " 'set_client_encoding',\n",
              " 'set_isolation_level',\n",
              " 'set_session',\n",
              " 'status',\n",
              " 'string_types',\n",
              " 'tpc_begin',\n",
              " 'tpc_commit',\n",
              " 'tpc_prepare',\n",
              " 'tpc_recover',\n",
              " 'tpc_rollback',\n",
              " 'xid']"
            ]
          },
          "metadata": {
            "tags": []
          },
          "execution_count": 8
        }
      ]
    },
    {
      "cell_type": "code",
      "metadata": {
        "id": "8yD5MQSVSv1I",
        "colab_type": "code",
        "colab": {}
      },
      "source": [
        "pg_curs = pg_conn.cursor()  # Works the same as SQLite!"
      ],
      "execution_count": null,
      "outputs": []
    },
    {
      "cell_type": "code",
      "metadata": {
        "id": "odJJh7PcS8Ju",
        "colab_type": "code",
        "colab": {
          "base_uri": "https://localhost:8080/",
          "height": 106
        },
        "outputId": "296c5bd3-af17-492c-ba96-50961128b208"
      },
      "source": [
        "help(pg_curs.execute)"
      ],
      "execution_count": null,
      "outputs": [
        {
          "output_type": "stream",
          "text": [
            "Help on built-in function execute:\n",
            "\n",
            "execute(...) method of psycopg2.extensions.cursor instance\n",
            "    execute(query, vars=None) -- Execute query with bound vars.\n",
            "\n"
          ],
          "name": "stdout"
        }
      ]
    },
    {
      "cell_type": "code",
      "metadata": {
        "id": "5Xhiv5G8S_QU",
        "colab_type": "code",
        "colab": {
          "base_uri": "https://localhost:8080/",
          "height": 106
        },
        "outputId": "7c9937a6-a6ef-4729-e9c0-7ed647d3bb44"
      },
      "source": [
        "help(pg_curs.executemany)"
      ],
      "execution_count": null,
      "outputs": [
        {
          "output_type": "stream",
          "text": [
            "Help on built-in function executemany:\n",
            "\n",
            "executemany(...) method of psycopg2.extensions.cursor instance\n",
            "    executemany(query, vars_list) -- Execute many queries with bound vars.\n",
            "\n"
          ],
          "name": "stdout"
        }
      ]
    },
    {
      "cell_type": "code",
      "metadata": {
        "id": "wY4oc3mITC4t",
        "colab_type": "code",
        "colab": {}
      },
      "source": [
        "# We're connected, but db is empty\n",
        "# Let's run a simple example to populate (from the tk)\n",
        "create_table_statement = \"\"\"\n",
        "CREATE TABLE test_table (\n",
        "  id SERIAL PRIMARY KEY,\n",
        "  name varchar(40) NOT NULL,\n",
        "  data JSONB\n",
        ");\n",
        "\"\"\"\n",
        "# NOTE - these types are PostgreSQL specific. This won't work in SQLite!\n",
        "\n",
        "pg_curs.execute(create_table_statement)\n",
        "pg_conn.commit()  # \"Save\" by committing"
      ],
      "execution_count": null,
      "outputs": []
    },
    {
      "cell_type": "code",
      "metadata": {
        "id": "HJRyr_t5TvDx",
        "colab_type": "code",
        "colab": {}
      },
      "source": [
        "insert_statement = \"\"\"\n",
        "INSERT INTO test_table (name, data) VALUES\n",
        "(\n",
        "  'A row name',\n",
        "  null\n",
        "),\n",
        "(\n",
        "  'Another row, with JSON this time',\n",
        "  '{ \"a\": 1, \"b\": [\"dog\", \"cat\", 42], \"c\": true }'::JSONB\n",
        ")\n",
        "\"\"\"\n",
        "\n",
        "pg_curs.execute(insert_statement)\n",
        "pg_conn.commit()"
      ],
      "execution_count": null,
      "outputs": []
    },
    {
      "cell_type": "code",
      "metadata": {
        "id": "tXnO3WBjVCow",
        "colab_type": "code",
        "colab": {}
      },
      "source": [
        "query = 'SELECT * FROM test_table;'\n",
        "pg_curs.execute(query)"
      ],
      "execution_count": null,
      "outputs": []
    },
    {
      "cell_type": "code",
      "metadata": {
        "id": "P1KI2zhTVS8U",
        "colab_type": "code",
        "colab": {
          "base_uri": "https://localhost:8080/",
          "height": 35
        },
        "outputId": "6e379af5-1d02-4e3c-f040-c13cfb8cd895"
      },
      "source": [
        "pg_curs"
      ],
      "execution_count": null,
      "outputs": [
        {
          "output_type": "execute_result",
          "data": {
            "text/plain": [
              "<cursor object at 0x7f32cf489dd8; closed: 0>"
            ]
          },
          "metadata": {
            "tags": []
          },
          "execution_count": 15
        }
      ]
    },
    {
      "cell_type": "code",
      "metadata": {
        "id": "cjanKLA8VTrr",
        "colab_type": "code",
        "colab": {
          "base_uri": "https://localhost:8080/",
          "height": 88
        },
        "outputId": "8a4f0ff2-1d9e-46ed-a240-165dc8b4697e"
      },
      "source": [
        "pg_curs.fetchall()"
      ],
      "execution_count": null,
      "outputs": [
        {
          "output_type": "execute_result",
          "data": {
            "text/plain": [
              "[(1, 'A row name', None),\n",
              " (2,\n",
              "  'Another row, with JSON this time',\n",
              "  {'a': 1, 'b': ['dog', 'cat', 42], 'c': True})]"
            ]
          },
          "metadata": {
            "tags": []
          },
          "execution_count": 16
        }
      ]
    },
    {
      "cell_type": "code",
      "metadata": {
        "id": "frXQPWPIVXwU",
        "colab_type": "code",
        "colab": {
          "base_uri": "https://localhost:8080/",
          "height": 186
        },
        "outputId": "13d49ee6-8a48-4eb8-c552-24eae0285e5d"
      },
      "source": [
        "# Database constraints are enforced - this is a good thing!\n",
        "# Helps ensure data quality\n",
        "pg_curs.execute('INSERT INTO test_table (name, data) VALUES (null, null);')"
      ],
      "execution_count": null,
      "outputs": [
        {
          "output_type": "error",
          "ename": "NotNullViolation",
          "evalue": "ignored",
          "traceback": [
            "\u001b[0;31m---------------------------------------------------------------------------\u001b[0m",
            "\u001b[0;31mNotNullViolation\u001b[0m                          Traceback (most recent call last)",
            "\u001b[0;32m<ipython-input-17-067352bfae62>\u001b[0m in \u001b[0;36m<module>\u001b[0;34m()\u001b[0m\n\u001b[0;32m----> 1\u001b[0;31m \u001b[0mpg_curs\u001b[0m\u001b[0;34m.\u001b[0m\u001b[0mexecute\u001b[0m\u001b[0;34m(\u001b[0m\u001b[0;34m'INSERT INTO test_table (name, data) VALUES (null, null);'\u001b[0m\u001b[0;34m)\u001b[0m\u001b[0;34m\u001b[0m\u001b[0;34m\u001b[0m\u001b[0m\n\u001b[0m",
            "\u001b[0;31mNotNullViolation\u001b[0m: null value in column \"name\" violates not-null constraint\nDETAIL:  Failing row contains (3, null, null).\n"
          ]
        }
      ]
    },
    {
      "cell_type": "markdown",
      "metadata": {
        "id": "1HiIS7cOXVbC",
        "colab_type": "text"
      },
      "source": [
        "# ETL\n",
        "\n",
        "Extract - Transform - Load\n",
        "\n",
        "We'd like to get the RPG data *out* (extract) of SQLite and insert it into (load) PostgreSQL.\n",
        "\n",
        "If we have to tweak it a bit between so it fits (or if we want to change it, e.g. calculate/summarize it), that's the transform step.\n",
        "\n",
        "We're making our first \"cloud\" ETL!"
      ]
    },
    {
      "cell_type": "code",
      "metadata": {
        "id": "ZLmmpL74VtZK",
        "colab_type": "code",
        "colab": {
          "base_uri": "https://localhost:8080/",
          "height": 393
        },
        "outputId": "de5c885c-1178-4923-c74f-10ca5b435995"
      },
      "source": [
        "!wget https://github.com/LambdaSchool/DS-Unit-3-Sprint-2-SQL-and-Databases/blob/master/module1-introduction-to-sql/rpg_db.sqlite3?raw=true"
      ],
      "execution_count": null,
      "outputs": [
        {
          "output_type": "stream",
          "text": [
            "--2020-07-14 17:30:07--  https://github.com/LambdaSchool/DS-Unit-3-Sprint-2-SQL-and-Databases/blob/master/module1-introduction-to-sql/rpg_db.sqlite3?raw=true\n",
            "Resolving github.com (github.com)... 140.82.114.3\n",
            "Connecting to github.com (github.com)|140.82.114.3|:443... connected.\n",
            "HTTP request sent, awaiting response... 302 Found\n",
            "Location: https://github.com/LambdaSchool/DS-Unit-3-Sprint-2-SQL-and-Databases/raw/master/module1-introduction-to-sql/rpg_db.sqlite3 [following]\n",
            "--2020-07-14 17:30:07--  https://github.com/LambdaSchool/DS-Unit-3-Sprint-2-SQL-and-Databases/raw/master/module1-introduction-to-sql/rpg_db.sqlite3\n",
            "Reusing existing connection to github.com:443.\n",
            "HTTP request sent, awaiting response... 302 Found\n",
            "Location: https://raw.githubusercontent.com/LambdaSchool/DS-Unit-3-Sprint-2-SQL-and-Databases/master/module1-introduction-to-sql/rpg_db.sqlite3 [following]\n",
            "--2020-07-14 17:30:07--  https://raw.githubusercontent.com/LambdaSchool/DS-Unit-3-Sprint-2-SQL-and-Databases/master/module1-introduction-to-sql/rpg_db.sqlite3\n",
            "Resolving raw.githubusercontent.com (raw.githubusercontent.com)... 151.101.0.133, 151.101.64.133, 151.101.128.133, ...\n",
            "Connecting to raw.githubusercontent.com (raw.githubusercontent.com)|151.101.0.133|:443... connected.\n",
            "HTTP request sent, awaiting response... 200 OK\n",
            "Length: 253952 (248K) [application/octet-stream]\n",
            "Saving to: ‘rpg_db.sqlite3?raw=true’\n",
            "\n",
            "rpg_db.sqlite3?raw= 100%[===================>] 248.00K  --.-KB/s    in 0.05s   \n",
            "\n",
            "2020-07-14 17:30:07 (4.47 MB/s) - ‘rpg_db.sqlite3?raw=true’ saved [253952/253952]\n",
            "\n"
          ],
          "name": "stdout"
        }
      ]
    },
    {
      "cell_type": "code",
      "metadata": {
        "id": "j4QBxkHJYGQt",
        "colab_type": "code",
        "colab": {}
      },
      "source": [
        "!mv 'rpg_db.sqlite3?raw=true' rpg_db.sqlite3"
      ],
      "execution_count": null,
      "outputs": []
    },
    {
      "cell_type": "code",
      "metadata": {
        "id": "Vk1_qbwVYM6b",
        "colab_type": "code",
        "colab": {
          "base_uri": "https://localhost:8080/",
          "height": 35
        },
        "outputId": "3d53a098-9895-436c-a1c0-88228643cc6e"
      },
      "source": [
        "!ls"
      ],
      "execution_count": null,
      "outputs": [
        {
          "output_type": "stream",
          "text": [
            "rpg_db.sqlite3\tsample_data\n"
          ],
          "name": "stdout"
        }
      ]
    },
    {
      "cell_type": "code",
      "metadata": {
        "id": "_AGYFtK2YOBN",
        "colab_type": "code",
        "colab": {}
      },
      "source": [
        "# Step 1 - Extract, getting data out of SQLite3\n",
        "import sqlite3\n",
        "sl_conn = sqlite3.connect('rpg_db.sqlite3')\n",
        "sl_curs = sl_conn.cursor()"
      ],
      "execution_count": null,
      "outputs": []
    },
    {
      "cell_type": "code",
      "metadata": {
        "id": "1cTI4KW1YwAo",
        "colab_type": "code",
        "colab": {}
      },
      "source": [
        "# Our goal - copy the charactercreator_character table\n",
        "get_characters = 'SELECT * FROM charactercreator_character;'\n",
        "characters = sl_curs.execute(get_characters).fetchall()"
      ],
      "execution_count": null,
      "outputs": []
    },
    {
      "cell_type": "code",
      "metadata": {
        "id": "5SJyFZwYZLlB",
        "colab_type": "code",
        "colab": {
          "base_uri": "https://localhost:8080/",
          "height": 35
        },
        "outputId": "387f6c5f-29b4-415d-c400-99b8ca4631ae"
      },
      "source": [
        "len(characters)  # Correct number of characters"
      ],
      "execution_count": null,
      "outputs": [
        {
          "output_type": "execute_result",
          "data": {
            "text/plain": [
              "302"
            ]
          },
          "metadata": {
            "tags": []
          },
          "execution_count": 23
        }
      ]
    },
    {
      "cell_type": "code",
      "metadata": {
        "id": "6W1FUMiQZNEx",
        "colab_type": "code",
        "colab": {
          "base_uri": "https://localhost:8080/",
          "height": 106
        },
        "outputId": "76dc2972-b085-4bdf-b9d8-6b3c780910e2"
      },
      "source": [
        "characters[:5]"
      ],
      "execution_count": null,
      "outputs": [
        {
          "output_type": "execute_result",
          "data": {
            "text/plain": [
              "[(1, 'Aliquid iste optio reiciendi', 0, 0, 10, 1, 1, 1, 1),\n",
              " (2, 'Optio dolorem ex a', 0, 0, 10, 1, 1, 1, 1),\n",
              " (3, 'Minus c', 0, 0, 10, 1, 1, 1, 1),\n",
              " (4, 'Sit ut repr', 0, 0, 10, 1, 1, 1, 1),\n",
              " (5, 'At id recusandae expl', 0, 0, 10, 1, 1, 1, 1)]"
            ]
          },
          "metadata": {
            "tags": []
          },
          "execution_count": 24
        }
      ]
    },
    {
      "cell_type": "code",
      "metadata": {
        "id": "6195Gua5ZS7R",
        "colab_type": "code",
        "colab": {
          "base_uri": "https://localhost:8080/",
          "height": 177
        },
        "outputId": "d4a9c537-93b6-4d15-f21a-25bb1a9f45d9"
      },
      "source": [
        "# Step 1 complete! We have a list of tuples with all our character data\n",
        "# Note - this is *not* a pandas dataframe\n",
        "# We don't know types - so, for \"Transform\" we need to figure that out\n",
        "\n",
        "# Step 2 - Transform\n",
        "# Our goal is to make a schema to define a table that fits this data in Postgres\n",
        "# Can we check the old schema?\n",
        "sl_curs.execute('PRAGMA table_info(charactercreator_character);').fetchall()"
      ],
      "execution_count": null,
      "outputs": [
        {
          "output_type": "execute_result",
          "data": {
            "text/plain": [
              "[(0, 'character_id', 'integer', 1, None, 1),\n",
              " (1, 'name', 'varchar(30)', 1, None, 0),\n",
              " (2, 'level', 'integer', 1, None, 0),\n",
              " (3, 'exp', 'integer', 1, None, 0),\n",
              " (4, 'hp', 'integer', 1, None, 0),\n",
              " (5, 'strength', 'integer', 1, None, 0),\n",
              " (6, 'intelligence', 'integer', 1, None, 0),\n",
              " (7, 'dexterity', 'integer', 1, None, 0),\n",
              " (8, 'wisdom', 'integer', 1, None, 0)]"
            ]
          },
          "metadata": {
            "tags": []
          },
          "execution_count": 25
        }
      ]
    },
    {
      "cell_type": "code",
      "metadata": {
        "id": "gALrnEi_Zp12",
        "colab_type": "code",
        "colab": {}
      },
      "source": [
        "# We need to make a create statement for PostgreSQL that captures these types\n",
        "create_character_table = \"\"\"\n",
        "CREATE TABLE charactercreator_character (\n",
        "  character_id SERIAL PRIMARY KEY,\n",
        "  name VARCHAR(30),\n",
        "  level INT,\n",
        "  exp INT,\n",
        "  hp INT,\n",
        "  strength INT,\n",
        "  intelligence INT,\n",
        "  dexterity INT,\n",
        "  wisdom INT\n",
        ");\n",
        "\"\"\""
      ],
      "execution_count": null,
      "outputs": []
    },
    {
      "cell_type": "code",
      "metadata": {
        "id": "fi6hsxWBaXAu",
        "colab_type": "code",
        "colab": {}
      },
      "source": [
        "# May need to rerun the .connect to refresh\n",
        "pg_curs = pg_conn.cursor()\n",
        "pg_curs.execute(create_character_table)\n",
        "pg_conn.commit()"
      ],
      "execution_count": null,
      "outputs": []
    },
    {
      "cell_type": "code",
      "metadata": {
        "id": "9U9ZKGx5aaf0",
        "colab_type": "code",
        "colab": {
          "base_uri": "https://localhost:8080/",
          "height": 177
        },
        "outputId": "dd4628a9-5477-48e2-e54a-0e088ff9d7a7"
      },
      "source": [
        "# We can query tables if we want to check\n",
        "# This is a clever optional thing, showing postgresql internals\n",
        "show_tables = \"\"\"\n",
        "SELECT\n",
        "   *\n",
        "FROM\n",
        "   pg_catalog.pg_tables\n",
        "WHERE\n",
        "   schemaname != 'pg_catalog'\n",
        "AND schemaname != 'information_schema';\n",
        "\"\"\"\n",
        "pg_curs.execute(show_tables)\n",
        "pg_curs.fetchall()"
      ],
      "execution_count": null,
      "outputs": [
        {
          "output_type": "execute_result",
          "data": {
            "text/plain": [
              "[('public', 'test_table', 'dgsbycvs', None, True, False, False, False),\n",
              " ('public',\n",
              "  'charactercreator_character',\n",
              "  'dgsbycvs',\n",
              "  None,\n",
              "  True,\n",
              "  False,\n",
              "  False,\n",
              "  False)]"
            ]
          },
          "metadata": {
            "tags": []
          },
          "execution_count": 34
        }
      ]
    },
    {
      "cell_type": "code",
      "metadata": {
        "id": "HGNr5hqnbKoi",
        "colab_type": "code",
        "colab": {
          "base_uri": "https://localhost:8080/",
          "height": 35
        },
        "outputId": "706d8787-d4ec-447f-9336-b2bf997c2b2b"
      },
      "source": [
        "# We now have a place to insert our characters without needing to transform much\n",
        "# Step 3 - Load!\n",
        "characters[0]"
      ],
      "execution_count": null,
      "outputs": [
        {
          "output_type": "execute_result",
          "data": {
            "text/plain": [
              "(1, 'Aliquid iste optio reiciendi', 0, 0, 10, 1, 1, 1, 1)"
            ]
          },
          "metadata": {
            "tags": []
          },
          "execution_count": 35
        }
      ]
    },
    {
      "cell_type": "code",
      "metadata": {
        "id": "52djK73dbivf",
        "colab_type": "code",
        "colab": {
          "base_uri": "https://localhost:8080/",
          "height": 35
        },
        "outputId": "cab3d8b8-4824-4a05-d00a-4ed05a7710a8"
      },
      "source": [
        "characters[0][1:]"
      ],
      "execution_count": null,
      "outputs": [
        {
          "output_type": "execute_result",
          "data": {
            "text/plain": [
              "('Aliquid iste optio reiciendi', 0, 0, 10, 1, 1, 1, 1)"
            ]
          },
          "metadata": {
            "tags": []
          },
          "execution_count": 36
        }
      ]
    },
    {
      "cell_type": "code",
      "metadata": {
        "id": "fuBCfWzNbTRl",
        "colab_type": "code",
        "colab": {
          "base_uri": "https://localhost:8080/",
          "height": 88
        },
        "outputId": "d5c21913-5f1d-4348-a48f-ba58f086ef4e"
      },
      "source": [
        "example_insert = \"\"\"\n",
        "INSERT INTO charactercreator_character\n",
        "(name, level, exp, hp, strength, intelligence, dexterity, wisdom)\n",
        "VALUES \"\"\" + str(characters[0][1:]) + \";\"\n",
        "\n",
        "print(example_insert)  # Not running, just inspecting"
      ],
      "execution_count": null,
      "outputs": [
        {
          "output_type": "stream",
          "text": [
            "\n",
            "INSERT INTO charactercreator_character\n",
            "(name, level, exp, hp, strength, intelligence, dexterity, wisdom)\n",
            "VALUES ('Aliquid iste optio reiciendi', 0, 0, 10, 1, 1, 1, 1);\n"
          ],
          "name": "stdout"
        }
      ]
    },
    {
      "cell_type": "code",
      "metadata": {
        "id": "zEi4Lcjqbpc-",
        "colab_type": "code",
        "colab": {}
      },
      "source": [
        "# If we ran that, we'd insert the first character\n",
        "# But we want them all - loops!\n",
        "for character in characters:\n",
        "  insert_character = \"\"\"\n",
        "    INSERT INTO charactercreator_character\n",
        "    (name, level, exp, hp, strength, intelligence, dexterity, wisdom)\n",
        "    VALUES \"\"\" + str(character[1:]) + \";\"\n",
        "  pg_curs.execute(insert_character)"
      ],
      "execution_count": null,
      "outputs": []
    },
    {
      "cell_type": "code",
      "metadata": {
        "id": "PZyghlRib7PN",
        "colab_type": "code",
        "colab": {
          "base_uri": "https://localhost:8080/",
          "height": 106
        },
        "outputId": "57b95ad0-69d5-4f91-90f4-a5cb6edd5d72"
      },
      "source": [
        "# PostgreSQL cursor needs to fetch in separate step, unlike SQLite\n",
        "pg_curs.execute('SELECT * FROM charactercreator_character LIMIT 5;')\n",
        "pg_curs.fetchall()"
      ],
      "execution_count": null,
      "outputs": [
        {
          "output_type": "execute_result",
          "data": {
            "text/plain": [
              "[(1, 'Aliquid iste optio reiciendi', 0, 0, 10, 1, 1, 1, 1),\n",
              " (2, 'Optio dolorem ex a', 0, 0, 10, 1, 1, 1, 1),\n",
              " (3, 'Minus c', 0, 0, 10, 1, 1, 1, 1),\n",
              " (4, 'Sit ut repr', 0, 0, 10, 1, 1, 1, 1),\n",
              " (5, 'At id recusandae expl', 0, 0, 10, 1, 1, 1, 1)]"
            ]
          },
          "metadata": {
            "tags": []
          },
          "execution_count": 41
        }
      ]
    },
    {
      "cell_type": "code",
      "metadata": {
        "id": "cEKjc4NqcFsF",
        "colab_type": "code",
        "colab": {}
      },
      "source": [
        "# It inserted, and we can query from our open cursor (because it did the insert)\n",
        "# But other connections and cursors don't know about it yet - we didn't commit!\n",
        "pg_conn.commit()"
      ],
      "execution_count": null,
      "outputs": []
    },
    {
      "cell_type": "code",
      "metadata": {
        "id": "edly0FT6cgGe",
        "colab_type": "code",
        "colab": {
          "base_uri": "https://localhost:8080/",
          "height": 35
        },
        "outputId": "b3b63df5-eedd-4afd-a6d1-ad204b326809"
      },
      "source": [
        "# We've done a basic ETL! How can we verify?\n",
        "len(characters)  # characters from SQLite"
      ],
      "execution_count": null,
      "outputs": [
        {
          "output_type": "execute_result",
          "data": {
            "text/plain": [
              "302"
            ]
          },
          "metadata": {
            "tags": []
          },
          "execution_count": 43
        }
      ]
    },
    {
      "cell_type": "code",
      "metadata": {
        "id": "iIapejnOctMb",
        "colab_type": "code",
        "colab": {}
      },
      "source": [
        "pg_curs.execute('SELECT * FROM charactercreator_character;')\n",
        "pg_characters = pg_curs.fetchall()"
      ],
      "execution_count": null,
      "outputs": []
    },
    {
      "cell_type": "code",
      "metadata": {
        "id": "A5SMY7vUc0Hb",
        "colab_type": "code",
        "colab": {
          "base_uri": "https://localhost:8080/",
          "height": 35
        },
        "outputId": "06af2d7e-1a02-4b9c-f2cc-08a8402493f1"
      },
      "source": [
        "len(pg_characters)"
      ],
      "execution_count": null,
      "outputs": [
        {
          "output_type": "execute_result",
          "data": {
            "text/plain": [
              "302"
            ]
          },
          "metadata": {
            "tags": []
          },
          "execution_count": 45
        }
      ]
    },
    {
      "cell_type": "code",
      "metadata": {
        "id": "T-sltuWFc1CK",
        "colab_type": "code",
        "colab": {
          "base_uri": "https://localhost:8080/",
          "height": 35
        },
        "outputId": "2d125c9a-3e20-40b0-aa11-6140a04e62c5"
      },
      "source": [
        "pg_characters[0]"
      ],
      "execution_count": null,
      "outputs": [
        {
          "output_type": "execute_result",
          "data": {
            "text/plain": [
              "(1, 'Aliquid iste optio reiciendi', 0, 0, 10, 1, 1, 1, 1)"
            ]
          },
          "metadata": {
            "tags": []
          },
          "execution_count": 46
        }
      ]
    },
    {
      "cell_type": "code",
      "metadata": {
        "id": "3Y7ZjNzDc2ZU",
        "colab_type": "code",
        "colab": {}
      },
      "source": [
        "# We could do more spot checks, but let's loop and check them all\n",
        "for character, pg_character in zip(characters, pg_characters):\n",
        "  assert character == pg_character"
      ],
      "execution_count": null,
      "outputs": []
    },
    {
      "cell_type": "code",
      "metadata": {
        "id": "QloV8w-PdEaS",
        "colab_type": "code",
        "colab": {}
      },
      "source": [
        "# No complaints - which means they're all the same!"
      ],
      "execution_count": null,
      "outputs": []
    }
  ]
}